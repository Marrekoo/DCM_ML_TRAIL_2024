{
 "cells": [
  {
   "cell_type": "markdown",
   "metadata": {},
   "source": [
    "# Discrete Choice Analysis: micro-econometrics and machine learning approaches\n",
    "\n",
    "## `Lab session 1: Artificial Neural Networks`\n",
    "\n",
    "**Delft University of Technology**<br>\n",
    "**February 2024**<br>\n",
    "**Instructor:** Sander van Cranenburgh <br>\n",
    "**TAs:**  Gabriel Nova <br>"
   ]
  },
  {
   "cell_type": "markdown",
   "metadata": {},
   "source": [
    "### `Instructions`\n",
    "\n",
    "**Lab sessions aim to:**<br>\n",
    "* Illustrate how models and theory discussed in the classroom work out in practice.\n",
    "* Help you gather hands-on modelling and data analysis skills.\n",
    "\n",
    "**Lab sessions are:**<br>\n",
    "* Learning environments where you work with Jupyter notebooks and where you can get support from TAs and fellow students.<br> \n",
    "* Not graded and do not have to be submitted. "
   ]
  },
  {
   "cell_type": "markdown",
   "metadata": {},
   "source": [
    "### `Workspace set-up`"
   ]
  },
  {
   "cell_type": "markdown",
   "metadata": {},
   "source": [
    "**Option 1: Local environment**<br>\n",
    "Uncomment the following cell if you are running this notebook on your local environment, to install all dependencies on your Python version."
   ]
  },
  {
   "cell_type": "code",
   "execution_count": 1,
   "metadata": {},
   "outputs": [],
   "source": [
    "#!pip install -r requirements.txt"
   ]
  },
  {
   "cell_type": "markdown",
   "metadata": {},
   "source": [
    "**Option 2: Google Colab**<br>\n",
    "Uncomment the following cell if you are running this notebook on Colab"
   ]
  },
  {
   "cell_type": "code",
   "execution_count": 2,
   "metadata": {},
   "outputs": [],
   "source": [
    "#!git clone https://github.com/DCM-ML-course-TRAIL/DCM_ML_TRAIL_2024\n",
    "#!pip install -r DCM_ML_TRAIL_2024/requirements_colab.txt\n",
    "#!mv \"/content/DCM_ML_TRAIL_2024/Lab sessions/data\" /content/data"
   ]
  },
  {
   "cell_type": "markdown",
   "metadata": {},
   "source": [
    "# `Application: Modelling mode choices` <br>\n",
    "In this lab session, we will analyse mode choice behaviour. Understanding people's preferences over transport attributes is crucial for city planners when they (re)develop  devise policies to enhance sustainable urban mobility. During this lab session, you will apply discrete choice models to uncover people's preferences over attributes, such as the travel time, travel cost, access time, and level of service. Also, you will explore whether preferences interact with covariates such as female, business, income. While doing so, you will test various utility specifications and interpret the modelling outcomes of discrete choice models.\n",
    "\n",
    "For this study, we use data from a Stated Choice (SC) experiment provided by [Apollo](https://www.apollochoicemodelling.com/examples.html)\n",
    "\n",
    "**`Learning objectives lab session 01`**\n",
    "\n",
    "After completing the following exercises you will be able to: <br>\n",
    "* Prepare (choice) data for training Artificial Neural Networks\n",
    "* Train MultiLayerPerceptron (MLP) - a praticular type of neural network - for a classification task<br>\n",
    "* Tune the hyperparameter and network architectures to improve the model performance<br>\n",
    "* Assess the performance of of competing models, based on various performance measures, including confusion matrices, and Precision, Recall, F1 scores and Matthew's coefficient<br>\n"
   ]
  },
  {
   "cell_type": "markdown",
   "metadata": {},
   "source": [
    "**`This lab consists of 6 parts`**\n",
    "1. Preparing (choice) data for training Artificial Neural Networks\n",
    "2. Training a MultiLayerPerceptron (MLP) neural network\n",
    "3. Using Early stopping to avoid overfitting\n",
    "4. Using k-fold cross validation to evaluate generalisation performance\n",
    "5. Tuning hyperparameter\n",
    "6. Evaluating performance of trained models\n",
    "\n",
    "and comprises **`7`** exercises."
   ]
  },
  {
   "cell_type": "markdown",
   "metadata": {},
   "source": [
    "#### `Import packages`"
   ]
  },
  {
   "cell_type": "markdown",
   "metadata": {},
   "source": [
    "To begin, we will import all the Python libraries that we will use in this lab session."
   ]
  },
  {
   "cell_type": "code",
   "execution_count": 3,
   "metadata": {},
   "outputs": [],
   "source": [
    "# Import required Python packages and modules\n",
    "import os\n",
    "import pandas as pd\n",
    "import sklearn as sk\n",
    "import numpy as np\n",
    "import matplotlib.pyplot as plt\n",
    "import seaborn as sns\n",
    "import pickle\n",
    "from pathlib import Path\n",
    "\n",
    "# Import selected functions and classes from Python packages\n",
    "from os import getcwd\n",
    "from sklearn.preprocessing import StandardScaler\n",
    "from sklearn.model_selection import train_test_split, GridSearchCV, cross_validate\n",
    "from sklearn.neural_network import MLPClassifier\n",
    "from sklearn.metrics import ConfusionMatrixDisplay, log_loss, matthews_corrcoef, make_scorer, classification_report\n",
    "\n",
    "# Biogeme\n",
    "import biogeme.database as db\n",
    "import biogeme.biogeme as bio\n",
    "from biogeme import models\n",
    "from biogeme.expressions import Beta, Variable, log\n",
    "\n",
    "# Setting\n",
    "pd.set_option('display.max_columns', None)"
   ]
  },
  {
   "cell_type": "markdown",
   "metadata": {},
   "source": [
    "### `0. Preparing (choice) data for training Artificial Neural Networks`\n",
    "To prepare the data set, we will:<br>\n",
    "    1.1 **Load** the data set<br>\n",
    "    1.2 **Inspect** and **Clean** the data set<br>\n",
    "    1.3 **Discover and visualise** the data <br>"
   ]
  },
  {
   "cell_type": "markdown",
   "metadata": {},
   "source": [
    " `i. Set up the workspace and load the database`"
   ]
  },
  {
   "cell_type": "code",
   "execution_count": 4,
   "metadata": {},
   "outputs": [
    {
     "name": "stdout",
     "output_type": "stream",
     "text": [
      "data/apollo_modeChoiceData.csv\n"
     ]
    }
   ],
   "source": [
    "# Get the current working directory\n",
    "data_path =  Path(f'data/apollo_modeChoiceData.csv')\n",
    "print(data_path)"
   ]
  },
  {
   "cell_type": "code",
   "execution_count": 5,
   "metadata": {},
   "outputs": [
    {
     "data": {
      "text/plain": [
       "(7000, 26)"
      ]
     },
     "execution_count": 5,
     "metadata": {},
     "output_type": "execute_result"
    }
   ],
   "source": [
    "# Load mode choice data into a pandas DataFrame\n",
    "df = pd.read_csv(data_path,sep = ',')\n",
    "df = df[df['SP']==1]\n",
    "df.shape"
   ]
  },
  {
   "cell_type": "markdown",
   "metadata": {},
   "source": [
    "**Inspect and clean the data**<br>\n",
    "Before starting to analyse your data, make sure you understand what features are in your data."
   ]
  },
  {
   "cell_type": "code",
   "execution_count": 6,
   "metadata": {},
   "outputs": [
    {
     "data": {
      "text/html": [
       "<div>\n",
       "<style scoped>\n",
       "    .dataframe tbody tr th:only-of-type {\n",
       "        vertical-align: middle;\n",
       "    }\n",
       "\n",
       "    .dataframe tbody tr th {\n",
       "        vertical-align: top;\n",
       "    }\n",
       "\n",
       "    .dataframe thead th {\n",
       "        text-align: right;\n",
       "    }\n",
       "</style>\n",
       "<table border=\"1\" class=\"dataframe\">\n",
       "  <thead>\n",
       "    <tr style=\"text-align: right;\">\n",
       "      <th></th>\n",
       "      <th>ID</th>\n",
       "      <th>RP</th>\n",
       "      <th>SP</th>\n",
       "      <th>RP_journey</th>\n",
       "      <th>SP_task</th>\n",
       "      <th>av_car</th>\n",
       "      <th>av_bus</th>\n",
       "      <th>av_air</th>\n",
       "      <th>av_rail</th>\n",
       "      <th>time_car</th>\n",
       "      <th>cost_car</th>\n",
       "      <th>time_bus</th>\n",
       "      <th>cost_bus</th>\n",
       "      <th>access_bus</th>\n",
       "      <th>time_air</th>\n",
       "      <th>cost_air</th>\n",
       "      <th>access_air</th>\n",
       "      <th>service_air</th>\n",
       "      <th>time_rail</th>\n",
       "      <th>cost_rail</th>\n",
       "      <th>access_rail</th>\n",
       "      <th>service_rail</th>\n",
       "      <th>female</th>\n",
       "      <th>business</th>\n",
       "      <th>income</th>\n",
       "      <th>choice</th>\n",
       "    </tr>\n",
       "  </thead>\n",
       "  <tbody>\n",
       "    <tr>\n",
       "      <th>2</th>\n",
       "      <td>1</td>\n",
       "      <td>0</td>\n",
       "      <td>1</td>\n",
       "      <td>NaN</td>\n",
       "      <td>1.0</td>\n",
       "      <td>0</td>\n",
       "      <td>0</td>\n",
       "      <td>1</td>\n",
       "      <td>1</td>\n",
       "      <td>0</td>\n",
       "      <td>0</td>\n",
       "      <td>0</td>\n",
       "      <td>0</td>\n",
       "      <td>0</td>\n",
       "      <td>50</td>\n",
       "      <td>50</td>\n",
       "      <td>55</td>\n",
       "      <td>3</td>\n",
       "      <td>170</td>\n",
       "      <td>35</td>\n",
       "      <td>5</td>\n",
       "      <td>2</td>\n",
       "      <td>0</td>\n",
       "      <td>0</td>\n",
       "      <td>46705</td>\n",
       "      <td>4</td>\n",
       "    </tr>\n",
       "    <tr>\n",
       "      <th>3</th>\n",
       "      <td>1</td>\n",
       "      <td>0</td>\n",
       "      <td>1</td>\n",
       "      <td>NaN</td>\n",
       "      <td>2.0</td>\n",
       "      <td>0</td>\n",
       "      <td>0</td>\n",
       "      <td>1</td>\n",
       "      <td>1</td>\n",
       "      <td>0</td>\n",
       "      <td>0</td>\n",
       "      <td>0</td>\n",
       "      <td>0</td>\n",
       "      <td>0</td>\n",
       "      <td>90</td>\n",
       "      <td>65</td>\n",
       "      <td>45</td>\n",
       "      <td>1</td>\n",
       "      <td>120</td>\n",
       "      <td>75</td>\n",
       "      <td>5</td>\n",
       "      <td>3</td>\n",
       "      <td>0</td>\n",
       "      <td>0</td>\n",
       "      <td>46705</td>\n",
       "      <td>4</td>\n",
       "    </tr>\n",
       "    <tr>\n",
       "      <th>4</th>\n",
       "      <td>1</td>\n",
       "      <td>0</td>\n",
       "      <td>1</td>\n",
       "      <td>NaN</td>\n",
       "      <td>3.0</td>\n",
       "      <td>0</td>\n",
       "      <td>0</td>\n",
       "      <td>1</td>\n",
       "      <td>1</td>\n",
       "      <td>0</td>\n",
       "      <td>0</td>\n",
       "      <td>0</td>\n",
       "      <td>0</td>\n",
       "      <td>0</td>\n",
       "      <td>70</td>\n",
       "      <td>110</td>\n",
       "      <td>40</td>\n",
       "      <td>1</td>\n",
       "      <td>155</td>\n",
       "      <td>75</td>\n",
       "      <td>25</td>\n",
       "      <td>2</td>\n",
       "      <td>0</td>\n",
       "      <td>0</td>\n",
       "      <td>46705</td>\n",
       "      <td>4</td>\n",
       "    </tr>\n",
       "    <tr>\n",
       "      <th>5</th>\n",
       "      <td>1</td>\n",
       "      <td>0</td>\n",
       "      <td>1</td>\n",
       "      <td>NaN</td>\n",
       "      <td>4.0</td>\n",
       "      <td>0</td>\n",
       "      <td>0</td>\n",
       "      <td>1</td>\n",
       "      <td>1</td>\n",
       "      <td>0</td>\n",
       "      <td>0</td>\n",
       "      <td>0</td>\n",
       "      <td>0</td>\n",
       "      <td>0</td>\n",
       "      <td>90</td>\n",
       "      <td>80</td>\n",
       "      <td>40</td>\n",
       "      <td>1</td>\n",
       "      <td>170</td>\n",
       "      <td>35</td>\n",
       "      <td>25</td>\n",
       "      <td>2</td>\n",
       "      <td>0</td>\n",
       "      <td>0</td>\n",
       "      <td>46705</td>\n",
       "      <td>4</td>\n",
       "    </tr>\n",
       "    <tr>\n",
       "      <th>6</th>\n",
       "      <td>1</td>\n",
       "      <td>0</td>\n",
       "      <td>1</td>\n",
       "      <td>NaN</td>\n",
       "      <td>5.0</td>\n",
       "      <td>0</td>\n",
       "      <td>0</td>\n",
       "      <td>1</td>\n",
       "      <td>1</td>\n",
       "      <td>0</td>\n",
       "      <td>0</td>\n",
       "      <td>0</td>\n",
       "      <td>0</td>\n",
       "      <td>0</td>\n",
       "      <td>90</td>\n",
       "      <td>80</td>\n",
       "      <td>35</td>\n",
       "      <td>2</td>\n",
       "      <td>130</td>\n",
       "      <td>75</td>\n",
       "      <td>25</td>\n",
       "      <td>2</td>\n",
       "      <td>0</td>\n",
       "      <td>0</td>\n",
       "      <td>46705</td>\n",
       "      <td>3</td>\n",
       "    </tr>\n",
       "  </tbody>\n",
       "</table>\n",
       "</div>"
      ],
      "text/plain": [
       "   ID  RP  SP  RP_journey  SP_task  av_car  av_bus  av_air  av_rail  time_car  \\\n",
       "2   1   0   1         NaN      1.0       0       0       1        1         0   \n",
       "3   1   0   1         NaN      2.0       0       0       1        1         0   \n",
       "4   1   0   1         NaN      3.0       0       0       1        1         0   \n",
       "5   1   0   1         NaN      4.0       0       0       1        1         0   \n",
       "6   1   0   1         NaN      5.0       0       0       1        1         0   \n",
       "\n",
       "   cost_car  time_bus  cost_bus  access_bus  time_air  cost_air  access_air  \\\n",
       "2         0         0         0           0        50        50          55   \n",
       "3         0         0         0           0        90        65          45   \n",
       "4         0         0         0           0        70       110          40   \n",
       "5         0         0         0           0        90        80          40   \n",
       "6         0         0         0           0        90        80          35   \n",
       "\n",
       "   service_air  time_rail  cost_rail  access_rail  service_rail  female  \\\n",
       "2            3        170         35            5             2       0   \n",
       "3            1        120         75            5             3       0   \n",
       "4            1        155         75           25             2       0   \n",
       "5            1        170         35           25             2       0   \n",
       "6            2        130         75           25             2       0   \n",
       "\n",
       "   business  income  choice  \n",
       "2         0   46705       4  \n",
       "3         0   46705       4  \n",
       "4         0   46705       4  \n",
       "5         0   46705       4  \n",
       "6         0   46705       3  "
      ]
     },
     "execution_count": 6,
     "metadata": {},
     "output_type": "execute_result"
    }
   ],
   "source": [
    "df.head()"
   ]
  },
  {
   "cell_type": "markdown",
   "metadata": {},
   "source": [
    "**Description of variables**<br>\n",
    "\n",
    "Therefore, it is highly recommended to look at the description of the data set.\n"
   ]
  },
  {
   "cell_type": "markdown",
   "metadata": {},
   "source": [
    "| Variable       | Description                                           | Values                                                |\n",
    "|----------------|-------------------------------------------------------|-------------------------------------------------------|\n",
    "| ID             | Unique individual ID                                  | 1 to 500                                              |\n",
    "| RP             | RP data identifier                                   | 1 for RP, 0 for SP                                    |\n",
    "| SP             | SP data identifier                                   | 1 for SP, 0 for RP                                    |\n",
    "| RP_journey     | Index for RP observations                             | 1 to 2, NA for SP                                     |\n",
    "| SP_task        | Index for SP observations                             | 1 to 14, NA for RP                                    |\n",
    "| av_car         | Availability for alternative 1 (car)                 | 1 for available, 0 for unavailable                    |\n",
    "| av_bus         | Availability for alternative 2 (bus)                 | 1 for available, 0 for unavailable                    |\n",
    "| av_air         | Availability for alternative 3 (air)                 | 1 for available, 0 for unavailable                    |\n",
    "| av_rail        | Availability for alternative 4 (rail)                | 1 for available, 0 for unavailable                    |\n",
    "| time_car       | Travel time (mins) for alternative 1 (car)           | Min: 250, mean: 311.79, max: 390 (0 if not available) |\n",
    "| cost_car       | Travel cost (£) for alternative 1 (car)              | Min: 30, mean: 39.99, max: 50 (0 if not available)    |\n",
    "| time_bus       | Travel time (mins) for alternative 2 (bus)           | Min: 300, mean: 370.29, max: 420 (0 if not available) |\n",
    "| cost_bus       | Travel cost (£) for alternative 2 (bus)              | Min: 15, mean: 25.02, max: 35 (0 if not available)    |\n",
    "| access_bus     | Access time (mins) for alternative 2 (bus)           | Min: 5, mean: 15.02, max: 25 (0 if not available)      |\n",
    "| time_air       | Travel time (mins) for alternative 3 (air)           | Min: 50, mean: 70.07, max: 90 (0 if not available)    |\n",
    "| cost_air       | Travel cost (£) for alternative 3 (air)              | Min: 50, mean: 79.94, max: 110 (0 if not available)   |\n",
    "| access_air     | Access time (mins) for alternative 3 (air)           | Min: 35, mean: 45.02, max: 55 (0 if not available)    |\n",
    "| service_air    | Service quality for alternative 3 (air)              | 1 for no-frills, 2 for wifi, 3 for food (0 if not used, RP data) |\n",
    "| time_rail      | Travel time (mins) for alternative 4 (rail)          | Min: 120, mean: 142.93, max: 170 (0 if not available) |\n",
    "| cost_rail      | Travel cost (£) for alternative 4 (rail)             | Min: 35, mean: 55.03, max: 75 (0 if not available)    |\n",
    "| access_rail    | Access time (mins) for alternative 4 (rail)          | Min: 5, mean: 14.96, max: 25 (0 if not available)      |\n",
    "| service_rail   | Service quality for alternative 4 (rail)             | 1 for no-frills, 2 for wifi, 3 for food (0 if not used, RP data) |\n",
    "| female         | Dummy variable for female individuals                | 1 for female, 0 otherwise                            |\n",
    "| business       | Dummy variable for business trips                    | 1 for business trips, 0 otherwise                     |\n",
    "| income         | Income variable (£ per annum)                        | Min: 15,490, mean: 44,748.27, max: 74,891              |\n",
    "| choice         | Choice variable                                     | 1 for car, 2 for bus, 3 for air, 4 for rail            |\n"
   ]
  },
  {
   "cell_type": "markdown",
   "metadata": {},
   "source": [
    "**`Descriptive statistics`**<br>\n",
    "\n",
    "We can use `describe()` to view descriptive statistics, such as count, mean, std, min, percentiles, and max about the **attribute levels** of the alternatives."
   ]
  },
  {
   "cell_type": "code",
   "execution_count": 7,
   "metadata": {},
   "outputs": [
    {
     "name": "stdout",
     "output_type": "stream",
     "text": [
      "(7000, 23)\n"
     ]
    },
    {
     "data": {
      "text/html": [
       "<div>\n",
       "<style scoped>\n",
       "    .dataframe tbody tr th:only-of-type {\n",
       "        vertical-align: middle;\n",
       "    }\n",
       "\n",
       "    .dataframe tbody tr th {\n",
       "        vertical-align: top;\n",
       "    }\n",
       "\n",
       "    .dataframe thead th {\n",
       "        text-align: right;\n",
       "    }\n",
       "</style>\n",
       "<table border=\"1\" class=\"dataframe\">\n",
       "  <thead>\n",
       "    <tr style=\"text-align: right;\">\n",
       "      <th></th>\n",
       "      <th>ID</th>\n",
       "      <th>SP_task</th>\n",
       "      <th>time_car</th>\n",
       "      <th>cost_car</th>\n",
       "      <th>time_bus</th>\n",
       "      <th>cost_bus</th>\n",
       "      <th>access_bus</th>\n",
       "      <th>time_air</th>\n",
       "      <th>cost_air</th>\n",
       "      <th>access_air</th>\n",
       "      <th>service_air</th>\n",
       "      <th>time_rail</th>\n",
       "      <th>cost_rail</th>\n",
       "      <th>access_rail</th>\n",
       "      <th>service_rail</th>\n",
       "      <th>female</th>\n",
       "      <th>business</th>\n",
       "      <th>income</th>\n",
       "      <th>av_car</th>\n",
       "      <th>av_bus</th>\n",
       "      <th>av_rail</th>\n",
       "      <th>av_air</th>\n",
       "      <th>choice</th>\n",
       "    </tr>\n",
       "  </thead>\n",
       "  <tbody>\n",
       "    <tr>\n",
       "      <th>count</th>\n",
       "      <td>7000.00000</td>\n",
       "      <td>7000.000000</td>\n",
       "      <td>7000.000000</td>\n",
       "      <td>7000.000000</td>\n",
       "      <td>7000.000000</td>\n",
       "      <td>7000.000000</td>\n",
       "      <td>7000.000000</td>\n",
       "      <td>7000.000000</td>\n",
       "      <td>7000.000000</td>\n",
       "      <td>7000.000000</td>\n",
       "      <td>7000.000000</td>\n",
       "      <td>7000.000000</td>\n",
       "      <td>7000.000000</td>\n",
       "      <td>7000.000000</td>\n",
       "      <td>7000.000000</td>\n",
       "      <td>7000.000000</td>\n",
       "      <td>7000.000000</td>\n",
       "      <td>7000.000000</td>\n",
       "      <td>7000.000000</td>\n",
       "      <td>7000.000000</td>\n",
       "      <td>7000.000000</td>\n",
       "      <td>7000.000000</td>\n",
       "      <td>7000.000000</td>\n",
       "    </tr>\n",
       "    <tr>\n",
       "      <th>mean</th>\n",
       "      <td>250.50000</td>\n",
       "      <td>7.500000</td>\n",
       "      <td>243.037143</td>\n",
       "      <td>31.080714</td>\n",
       "      <td>334.084286</td>\n",
       "      <td>22.577143</td>\n",
       "      <td>13.576429</td>\n",
       "      <td>52.704286</td>\n",
       "      <td>60.082857</td>\n",
       "      <td>33.831429</td>\n",
       "      <td>1.500857</td>\n",
       "      <td>124.950000</td>\n",
       "      <td>48.015714</td>\n",
       "      <td>13.079286</td>\n",
       "      <td>1.741429</td>\n",
       "      <td>0.476000</td>\n",
       "      <td>0.330000</td>\n",
       "      <td>44748.274000</td>\n",
       "      <td>0.778000</td>\n",
       "      <td>0.902000</td>\n",
       "      <td>0.874000</td>\n",
       "      <td>0.752000</td>\n",
       "      <td>2.846286</td>\n",
       "    </tr>\n",
       "    <tr>\n",
       "      <th>std</th>\n",
       "      <td>144.34759</td>\n",
       "      <td>4.031417</td>\n",
       "      <td>137.206105</td>\n",
       "      <td>17.735009</td>\n",
       "      <td>115.666923</td>\n",
       "      <td>10.034647</td>\n",
       "      <td>8.070708</td>\n",
       "      <td>32.667098</td>\n",
       "      <td>39.177958</td>\n",
       "      <td>20.381387</td>\n",
       "      <td>1.115555</td>\n",
       "      <td>50.293655</td>\n",
       "      <td>22.516328</td>\n",
       "      <td>8.264116</td>\n",
       "      <td>1.012565</td>\n",
       "      <td>0.499459</td>\n",
       "      <td>0.470246</td>\n",
       "      <td>17060.095215</td>\n",
       "      <td>0.415621</td>\n",
       "      <td>0.297336</td>\n",
       "      <td>0.331873</td>\n",
       "      <td>0.431883</td>\n",
       "      <td>1.262209</td>\n",
       "    </tr>\n",
       "    <tr>\n",
       "      <th>min</th>\n",
       "      <td>1.00000</td>\n",
       "      <td>1.000000</td>\n",
       "      <td>0.000000</td>\n",
       "      <td>0.000000</td>\n",
       "      <td>0.000000</td>\n",
       "      <td>0.000000</td>\n",
       "      <td>0.000000</td>\n",
       "      <td>0.000000</td>\n",
       "      <td>0.000000</td>\n",
       "      <td>0.000000</td>\n",
       "      <td>0.000000</td>\n",
       "      <td>0.000000</td>\n",
       "      <td>0.000000</td>\n",
       "      <td>0.000000</td>\n",
       "      <td>0.000000</td>\n",
       "      <td>0.000000</td>\n",
       "      <td>0.000000</td>\n",
       "      <td>15490.000000</td>\n",
       "      <td>0.000000</td>\n",
       "      <td>0.000000</td>\n",
       "      <td>0.000000</td>\n",
       "      <td>0.000000</td>\n",
       "      <td>1.000000</td>\n",
       "    </tr>\n",
       "    <tr>\n",
       "      <th>25%</th>\n",
       "      <td>125.75000</td>\n",
       "      <td>4.000000</td>\n",
       "      <td>250.000000</td>\n",
       "      <td>30.000000</td>\n",
       "      <td>330.000000</td>\n",
       "      <td>15.000000</td>\n",
       "      <td>5.000000</td>\n",
       "      <td>50.000000</td>\n",
       "      <td>50.000000</td>\n",
       "      <td>35.000000</td>\n",
       "      <td>1.000000</td>\n",
       "      <td>120.000000</td>\n",
       "      <td>35.000000</td>\n",
       "      <td>5.000000</td>\n",
       "      <td>1.000000</td>\n",
       "      <td>0.000000</td>\n",
       "      <td>0.000000</td>\n",
       "      <td>30371.500000</td>\n",
       "      <td>1.000000</td>\n",
       "      <td>1.000000</td>\n",
       "      <td>1.000000</td>\n",
       "      <td>1.000000</td>\n",
       "      <td>1.000000</td>\n",
       "    </tr>\n",
       "    <tr>\n",
       "      <th>50%</th>\n",
       "      <td>250.50000</td>\n",
       "      <td>7.500000</td>\n",
       "      <td>275.000000</td>\n",
       "      <td>35.000000</td>\n",
       "      <td>360.000000</td>\n",
       "      <td>25.000000</td>\n",
       "      <td>15.000000</td>\n",
       "      <td>60.000000</td>\n",
       "      <td>65.000000</td>\n",
       "      <td>40.000000</td>\n",
       "      <td>1.000000</td>\n",
       "      <td>140.000000</td>\n",
       "      <td>55.000000</td>\n",
       "      <td>15.000000</td>\n",
       "      <td>2.000000</td>\n",
       "      <td>0.000000</td>\n",
       "      <td>0.000000</td>\n",
       "      <td>44977.000000</td>\n",
       "      <td>1.000000</td>\n",
       "      <td>1.000000</td>\n",
       "      <td>1.000000</td>\n",
       "      <td>1.000000</td>\n",
       "      <td>3.000000</td>\n",
       "    </tr>\n",
       "    <tr>\n",
       "      <th>75%</th>\n",
       "      <td>375.25000</td>\n",
       "      <td>11.000000</td>\n",
       "      <td>345.000000</td>\n",
       "      <td>45.000000</td>\n",
       "      <td>390.000000</td>\n",
       "      <td>30.000000</td>\n",
       "      <td>20.000000</td>\n",
       "      <td>80.000000</td>\n",
       "      <td>95.000000</td>\n",
       "      <td>50.000000</td>\n",
       "      <td>2.000000</td>\n",
       "      <td>155.000000</td>\n",
       "      <td>65.000000</td>\n",
       "      <td>20.000000</td>\n",
       "      <td>3.000000</td>\n",
       "      <td>1.000000</td>\n",
       "      <td>1.000000</td>\n",
       "      <td>59155.500000</td>\n",
       "      <td>1.000000</td>\n",
       "      <td>1.000000</td>\n",
       "      <td>1.000000</td>\n",
       "      <td>1.000000</td>\n",
       "      <td>4.000000</td>\n",
       "    </tr>\n",
       "    <tr>\n",
       "      <th>max</th>\n",
       "      <td>500.00000</td>\n",
       "      <td>14.000000</td>\n",
       "      <td>390.000000</td>\n",
       "      <td>50.000000</td>\n",
       "      <td>420.000000</td>\n",
       "      <td>35.000000</td>\n",
       "      <td>25.000000</td>\n",
       "      <td>90.000000</td>\n",
       "      <td>110.000000</td>\n",
       "      <td>55.000000</td>\n",
       "      <td>3.000000</td>\n",
       "      <td>170.000000</td>\n",
       "      <td>75.000000</td>\n",
       "      <td>25.000000</td>\n",
       "      <td>3.000000</td>\n",
       "      <td>1.000000</td>\n",
       "      <td>1.000000</td>\n",
       "      <td>74891.000000</td>\n",
       "      <td>1.000000</td>\n",
       "      <td>1.000000</td>\n",
       "      <td>1.000000</td>\n",
       "      <td>1.000000</td>\n",
       "      <td>4.000000</td>\n",
       "    </tr>\n",
       "  </tbody>\n",
       "</table>\n",
       "</div>"
      ],
      "text/plain": [
       "               ID      SP_task     time_car     cost_car     time_bus  \\\n",
       "count  7000.00000  7000.000000  7000.000000  7000.000000  7000.000000   \n",
       "mean    250.50000     7.500000   243.037143    31.080714   334.084286   \n",
       "std     144.34759     4.031417   137.206105    17.735009   115.666923   \n",
       "min       1.00000     1.000000     0.000000     0.000000     0.000000   \n",
       "25%     125.75000     4.000000   250.000000    30.000000   330.000000   \n",
       "50%     250.50000     7.500000   275.000000    35.000000   360.000000   \n",
       "75%     375.25000    11.000000   345.000000    45.000000   390.000000   \n",
       "max     500.00000    14.000000   390.000000    50.000000   420.000000   \n",
       "\n",
       "          cost_bus   access_bus     time_air     cost_air   access_air  \\\n",
       "count  7000.000000  7000.000000  7000.000000  7000.000000  7000.000000   \n",
       "mean     22.577143    13.576429    52.704286    60.082857    33.831429   \n",
       "std      10.034647     8.070708    32.667098    39.177958    20.381387   \n",
       "min       0.000000     0.000000     0.000000     0.000000     0.000000   \n",
       "25%      15.000000     5.000000    50.000000    50.000000    35.000000   \n",
       "50%      25.000000    15.000000    60.000000    65.000000    40.000000   \n",
       "75%      30.000000    20.000000    80.000000    95.000000    50.000000   \n",
       "max      35.000000    25.000000    90.000000   110.000000    55.000000   \n",
       "\n",
       "       service_air    time_rail    cost_rail  access_rail  service_rail  \\\n",
       "count  7000.000000  7000.000000  7000.000000  7000.000000   7000.000000   \n",
       "mean      1.500857   124.950000    48.015714    13.079286      1.741429   \n",
       "std       1.115555    50.293655    22.516328     8.264116      1.012565   \n",
       "min       0.000000     0.000000     0.000000     0.000000      0.000000   \n",
       "25%       1.000000   120.000000    35.000000     5.000000      1.000000   \n",
       "50%       1.000000   140.000000    55.000000    15.000000      2.000000   \n",
       "75%       2.000000   155.000000    65.000000    20.000000      3.000000   \n",
       "max       3.000000   170.000000    75.000000    25.000000      3.000000   \n",
       "\n",
       "            female     business        income       av_car       av_bus  \\\n",
       "count  7000.000000  7000.000000   7000.000000  7000.000000  7000.000000   \n",
       "mean      0.476000     0.330000  44748.274000     0.778000     0.902000   \n",
       "std       0.499459     0.470246  17060.095215     0.415621     0.297336   \n",
       "min       0.000000     0.000000  15490.000000     0.000000     0.000000   \n",
       "25%       0.000000     0.000000  30371.500000     1.000000     1.000000   \n",
       "50%       0.000000     0.000000  44977.000000     1.000000     1.000000   \n",
       "75%       1.000000     1.000000  59155.500000     1.000000     1.000000   \n",
       "max       1.000000     1.000000  74891.000000     1.000000     1.000000   \n",
       "\n",
       "           av_rail       av_air       choice  \n",
       "count  7000.000000  7000.000000  7000.000000  \n",
       "mean      0.874000     0.752000     2.846286  \n",
       "std       0.331873     0.431883     1.262209  \n",
       "min       0.000000     0.000000     1.000000  \n",
       "25%       1.000000     1.000000     1.000000  \n",
       "50%       1.000000     1.000000     3.000000  \n",
       "75%       1.000000     1.000000     4.000000  \n",
       "max       1.000000     1.000000     4.000000  "
      ]
     },
     "execution_count": 7,
     "metadata": {},
     "output_type": "execute_result"
    }
   ],
   "source": [
    "# Data cleaning\n",
    "\n",
    "# list of relevant features\n",
    "id         = ['ID', 'SP_task' ] \n",
    "\n",
    "# Attributes\n",
    "attributes =   ['time_car',  'cost_car', \n",
    "                'time_bus',  'cost_bus',  'access_bus',\n",
    "                'time_air',  'cost_air',  'access_air',  'service_air', \n",
    "                'time_rail', 'cost_rail', 'access_rail', 'service_rail']\n",
    "\n",
    "# Socio-demographic variables\n",
    "sociovars = ['female', 'business','income']\n",
    "\n",
    "# Availability variables\n",
    "av = ['av_car', 'av_bus', 'av_rail', 'av_air']\n",
    "\n",
    "# Create a new instance of the dataframe, with the atrtributes, socio-demographic variables and the choice\n",
    "dff = df[id + attributes + sociovars + av +['choice'] ].copy()\n",
    "\n",
    "print(dff.shape)\n",
    "dff.describe()\n",
    "\n",
    "# Inspect the data types in the df\n",
    "# df.info()"
   ]
  },
  {
   "cell_type": "markdown",
   "metadata": {},
   "source": [
    "**Discovering and visualising the data**<br>\n",
    "Before starting to analyse your data with models, it is advisable to start with some **descriptive analyses**.<br>\n",
    "Therefore is recommended to look first at the distribution and correlations of key feature in the data."
   ]
  },
  {
   "cell_type": "markdown",
   "metadata": {},
   "source": [
    "### ``Exercise 1: Is the data set (im)balanced?``\n",
    "`A` Create a histogram showing how often TRAIN, SM and CAR are chosen. Do not forget to add labels to the columns<br>\n",
    "`B` Interpret the the histogram. Is the data set imbalanced? <br>"
   ]
  },
  {
   "cell_type": "markdown",
   "metadata": {},
   "source": [
    "$\\color{green}{\\text{Add your answers here}}$"
   ]
  },
  {
   "cell_type": "code",
   "execution_count": 8,
   "metadata": {},
   "outputs": [],
   "source": [
    "# Add your code here"
   ]
  },
  {
   "cell_type": "code",
   "execution_count": 9,
   "metadata": {},
   "outputs": [],
   "source": [
    "# ANSWERS\n",
    "# A) \n",
    "# B) "
   ]
  },
  {
   "cell_type": "markdown",
   "metadata": {},
   "source": [
    "### ``Exercise 2: Explore correlations between features``\n",
    "`A` Create a heatmap to identify what features particulalrly correlate with the **CHOICE**<br>\n",
    "`B` Identify the features that strongly correlate (corr >0.9) (if any). Do they make sense? <br>\n",
    "Hint: to do so you will need the description of the features [Click here](https://github.com/TPM34A/Admin_2022/blob/main/lab%20sessions/lab_ex02/data/CS_SwissmetroDescription.pdf) to open the pdf."
   ]
  },
  {
   "cell_type": "markdown",
   "metadata": {},
   "source": [
    "$\\color{green}{\\text{Add your answers here}}$"
   ]
  },
  {
   "cell_type": "code",
   "execution_count": 10,
   "metadata": {},
   "outputs": [],
   "source": [
    "# Add your code here"
   ]
  },
  {
   "cell_type": "code",
   "execution_count": 11,
   "metadata": {},
   "outputs": [],
   "source": [
    "# ANSWERS\n",
    "# A) \n",
    "# B)"
   ]
  },
  {
   "cell_type": "markdown",
   "metadata": {},
   "source": [
    "### `1. Estimate benchmark discrete choice model`<br>\n",
    "As a benchmark, we use the linear-additive RUM model model. We estimate this model using `biogeme`."
   ]
  },
  {
   "cell_type": "code",
   "execution_count": 12,
   "metadata": {},
   "outputs": [],
   "source": [
    "# Convert pandas dff into biogeme database\n",
    "biodata = db.Database('neighbourhood_data_train', dff)\n"
   ]
  },
  {
   "cell_type": "code",
   "execution_count": 13,
   "metadata": {},
   "outputs": [],
   "source": [
    "# Create Biogeme variables\n",
    "\n",
    "# Attributes of alternative 1\n",
    "time_car     = Variable('time_car')\n",
    "cost_car     = Variable('cost_car')\n",
    "\n",
    "# Attributes of alternative 2    \n",
    "time_bus     = Variable('time_bus')\n",
    "cost_bus     = Variable('cost_bus')\n",
    "access_bus   = Variable('access_bus')\n",
    "    \n",
    "# Attributes of alternative 3\n",
    "time_air     = Variable('time_air')\n",
    "cost_air     = Variable('cost_air')\n",
    "access_air   = Variable('access_air')\n",
    "service_air  = Variable('service_air')\n",
    "\n",
    "# Attributes of alternative 4\n",
    "time_rail     = Variable('time_rail')\n",
    "cost_rail     = Variable('cost_rail')\n",
    "access_rail   = Variable('access_rail')\n",
    "service_rail  = Variable('service_rail')\n",
    "\n",
    "# Availability variables\n",
    "av_car       = Variable('av_car')\n",
    "av_bus       = Variable('av_bus')\n",
    "av_rail      = Variable('av_rail')\n",
    "av_air       = Variable('av_air')\n",
    "\n",
    "# choice\n",
    "choice      = Variable('choice')"
   ]
  },
  {
   "cell_type": "code",
   "execution_count": 14,
   "metadata": {},
   "outputs": [
    {
     "name": "stdout",
     "output_type": "stream",
     "text": [
      "Results for model Linear-additive RUM-MNL\n",
      "Nbr of parameters:\t\t8\n",
      "Sample size:\t\t\t7000\n",
      "Excluded data:\t\t\t0\n",
      "Null log likelihood:\t\t-8196.021\n",
      "Final log likelihood:\t\t-5761.741\n",
      "Likelihood ratio test (null):\t\t4868.56\n",
      "Rho square (null):\t\t\t0.297\n",
      "Rho bar square (null):\t\t\t0.296\n",
      "Akaike Information Criterion:\t11539.48\n",
      "Bayesian Information Criterion:\t11594.31\n",
      "\n",
      "              Value  Rob. Std err  Rob. t-test  Rob. p-value\n",
      "ASC_air    0.435186      0.111649     3.897810  9.706658e-05\n",
      "ASC_bus   -1.310174      0.092126   -14.221604  0.000000e+00\n",
      "ASC_car    0.740550      0.073947    10.014667  0.000000e+00\n",
      "ASC_rail   0.134437      0.055442     2.424810  1.531641e-02\n",
      "B_access  -0.018790      0.002462    -7.633456  2.287059e-14\n",
      "B_cost    -0.055508      0.001467   -37.836987  0.000000e+00\n",
      "B_service  0.182630      0.023526     7.762813  8.215650e-15\n",
      "B_time    -0.010633      0.000550   -19.338157  0.000000e+00\n"
     ]
    }
   ],
   "source": [
    "# Give a name to the model    \n",
    "model_name = 'Linear-additive RUM-MNL'\n",
    "\n",
    "# Define the model parameters, using the function \"Beta()\", in which you must define:\n",
    "B_time        = Beta('B_time',      0, None, None, 0)\n",
    "B_cost        = Beta('B_cost',      0, None, None, 0)\n",
    "B_access      = Beta('B_access',    0, None, None, 0)\n",
    "B_service     = Beta('B_service',   0, None, None, 0)\n",
    "ASC_car       = Beta('ASC_car',     0, None, None, 0)\n",
    "ASC_bus       = Beta('ASC_bus',     0, None, None, 0)\n",
    "ASC_air       = Beta('ASC_air',     0, None, None, 0)\n",
    "ASC_rail      = Beta('ASC_rail',    0, None, None, 0)\n",
    "\n",
    "# Define the utility functions\n",
    "V1 = ASC_car + B_time * time_car   + B_cost * cost_car\n",
    "V2 = ASC_bus + B_time * time_bus   + B_cost * cost_bus  + B_access * access_bus\n",
    "V3 = ASC_air + B_time * time_air   + B_cost * cost_air  + B_access * access_air  + B_service * service_air\n",
    "V4 = ASC_rail + B_time * time_rail + B_cost * cost_rail + B_access * access_rail + B_service * service_rail\n",
    "\n",
    "# Associate utility functions with alternatives\n",
    "V = {1: V1, 2: V2, 3: V3, 4: V4}    \n",
    "\n",
    "# Associate the availability conditions with the alternatives\n",
    "AV = {1: av_car, 2: av_bus, 3: av_air, 4: av_rail} \n",
    "\n",
    "# Definition of the model. This is the contribution of each observation to the log likelihood function.\n",
    "prob = models.logit(V, AV, choice)\n",
    "\n",
    "# Create the Biogeme object\n",
    "biogeme = bio.BIOGEME(biodata, log(prob))\n",
    "\n",
    "# Set reporting levels\n",
    "biogeme.generate_pickle = False\n",
    "biogeme.generate_html = False\n",
    "biogeme.saveIterations = False\n",
    "biogeme.modelName = model_name\n",
    "\n",
    "# Compute the null loglikelihood for reporting\n",
    "biogeme.calculateNullLoglikelihood(AV)\n",
    "\n",
    "# Estimate the parameters\n",
    "results_rum_mnl = biogeme.estimate()\n",
    "print(results_rum_mnl.short_summary())\n",
    "\n",
    "# Get the results in a pandas table\n",
    "beta_hat = results_rum_mnl.getEstimatedParameters()\n",
    "print(beta_hat)"
   ]
  },
  {
   "cell_type": "markdown",
   "metadata": {},
   "source": [
    "### `2. Training a MultiLayerPerceptron (MLP) neural network`\n",
    "To train Artifical Neural Networks we take the following steps:<br>\n",
    "    2.1 **Scaling** the features<br>\n",
    "    2.2 **Splitting** the data in a training and test data set<br>\n",
    "    2.3 **Creating MLP** object<br>\n",
    "    2.4 **Training the MLP** on the train data<br>\n",
    "    2.5 **Evaluating** the performance\n"
   ]
  },
  {
   "cell_type": "markdown",
   "metadata": {},
   "source": [
    "`i. Scaling the features`<br>\n",
    "To efficiently train ANNs it strongly recommended to **scale** (a.k.a. normalise) the features. There are several ways to scale your data. A commonly used scaler of `sk-learn` is called 'StandardScaler'. This scaler normalises the variance and shift the location of the distribution to zero, see https://scikit-learn.org/stable/modules/generated/sklearn.preprocessing.StandardScaler.html"
   ]
  },
  {
   "cell_type": "code",
   "execution_count": 15,
   "metadata": {},
   "outputs": [],
   "source": [
    "# Creates the list of features that need to be scaled\n",
    "# Importantly, this excludes the availabilities and the choice\n",
    "features2scale = attributes + sociovars \n",
    "\n",
    "# Initiate scaler object & fit to data\n",
    "scaler = StandardScaler()  \n",
    "dff_scaled_f = scaler.fit_transform(dff.loc[:,features2scale]) \n",
    "dff_scaled_f = pd.DataFrame(dff_scaled_f, columns = features2scale) \n",
    "dff_scaled_f.reset_index(drop=True, inplace=True)  # Reset indices\n",
    "\n",
    "# Create new dataframe X_scaled containingg the scaled features AND the (unscaled) ones: Group, Survey, Choice\n",
    "dff_scaled = dff.copy()\n",
    "dff_scaled.reset_index(drop=True, inplace=True)\n",
    "dff_scaled[features2scale] = dff_scaled_f"
   ]
  },
  {
   "cell_type": "markdown",
   "metadata": {},
   "source": [
    "`ii. Splitting the data in a train set and a test set`<br>\n",
    "Training ML models always involves a **train** and a **test** data set. The train set is used to update the weights of the model. Tha test set is used to evaluate the **generalisation performance** of the model."
   ]
  },
  {
   "cell_type": "code",
   "execution_count": 16,
   "metadata": {},
   "outputs": [],
   "source": [
    "# Create the list of features that we want to use in the model\n",
    "features = attributes + sociovars + av\n",
    "\n",
    "# Create the target\n",
    "Y = dff_scaled['choice']\n",
    "\n",
    "# Split the data using sk-learn's `train_test_split` function\n",
    "# Note that we use 60% for training and 40% for testing\n",
    "# Note that we set the random_state, in order to replicate results later (do not change) \n",
    "X_train, X_test, Y_train, Y_test = train_test_split(dff_scaled[features], Y, random_state = 12345, test_size = 0.4)"
   ]
  },
  {
   "cell_type": "markdown",
   "metadata": {},
   "source": [
    "`iii. Creating the MLP object`<br>\n",
    "A MultiLayerPerceptron (MLP) is a fully-connected feed-forward neural network. We create the MLP using `sk-learn's` MLPClassifier function. "
   ]
  },
  {
   "cell_type": "code",
   "execution_count": 17,
   "metadata": {},
   "outputs": [],
   "source": [
    "# Create 'plain vanilla' MLP object\n",
    "# Declare the number of layers and nodes per layer\n",
    "# layers = (a,b) means two layer with a nodes in the 1st hidden layer and b nodes in the 2nd hidden layer\n",
    "layers = (10)\n",
    "\n",
    "# Define MLP architecture, optimiser and hyperparameters:\n",
    "# We use Adam optimiser\n",
    "# We use the learning rate to 0.001\n",
    "# We use L2 regularisation of 0\n",
    "# We use a batch size of 250 observations\n",
    "# We use relu activation (transfer function)\n",
    "# We set the max number of epochs to 2000\n",
    "mlp = MLPClassifier(hidden_layer_sizes = layers, solver='adam', learning_rate_init = 0.001, alpha=0, batch_size=250, activation = 'relu', max_iter = 2000) "
   ]
  },
  {
   "cell_type": "markdown",
   "metadata": {},
   "source": [
    "`iv. Training the MLP`<br>\n",
    "To train the MLP we use the '.fit' function.  "
   ]
  },
  {
   "cell_type": "code",
   "execution_count": 18,
   "metadata": {},
   "outputs": [
    {
     "data": {
      "text/html": [
       "<style>#sk-container-id-1 {color: black;}#sk-container-id-1 pre{padding: 0;}#sk-container-id-1 div.sk-toggleable {background-color: white;}#sk-container-id-1 label.sk-toggleable__label {cursor: pointer;display: block;width: 100%;margin-bottom: 0;padding: 0.3em;box-sizing: border-box;text-align: center;}#sk-container-id-1 label.sk-toggleable__label-arrow:before {content: \"▸\";float: left;margin-right: 0.25em;color: #696969;}#sk-container-id-1 label.sk-toggleable__label-arrow:hover:before {color: black;}#sk-container-id-1 div.sk-estimator:hover label.sk-toggleable__label-arrow:before {color: black;}#sk-container-id-1 div.sk-toggleable__content {max-height: 0;max-width: 0;overflow: hidden;text-align: left;background-color: #f0f8ff;}#sk-container-id-1 div.sk-toggleable__content pre {margin: 0.2em;color: black;border-radius: 0.25em;background-color: #f0f8ff;}#sk-container-id-1 input.sk-toggleable__control:checked~div.sk-toggleable__content {max-height: 200px;max-width: 100%;overflow: auto;}#sk-container-id-1 input.sk-toggleable__control:checked~label.sk-toggleable__label-arrow:before {content: \"▾\";}#sk-container-id-1 div.sk-estimator input.sk-toggleable__control:checked~label.sk-toggleable__label {background-color: #d4ebff;}#sk-container-id-1 div.sk-label input.sk-toggleable__control:checked~label.sk-toggleable__label {background-color: #d4ebff;}#sk-container-id-1 input.sk-hidden--visually {border: 0;clip: rect(1px 1px 1px 1px);clip: rect(1px, 1px, 1px, 1px);height: 1px;margin: -1px;overflow: hidden;padding: 0;position: absolute;width: 1px;}#sk-container-id-1 div.sk-estimator {font-family: monospace;background-color: #f0f8ff;border: 1px dotted black;border-radius: 0.25em;box-sizing: border-box;margin-bottom: 0.5em;}#sk-container-id-1 div.sk-estimator:hover {background-color: #d4ebff;}#sk-container-id-1 div.sk-parallel-item::after {content: \"\";width: 100%;border-bottom: 1px solid gray;flex-grow: 1;}#sk-container-id-1 div.sk-label:hover label.sk-toggleable__label {background-color: #d4ebff;}#sk-container-id-1 div.sk-serial::before {content: \"\";position: absolute;border-left: 1px solid gray;box-sizing: border-box;top: 0;bottom: 0;left: 50%;z-index: 0;}#sk-container-id-1 div.sk-serial {display: flex;flex-direction: column;align-items: center;background-color: white;padding-right: 0.2em;padding-left: 0.2em;position: relative;}#sk-container-id-1 div.sk-item {position: relative;z-index: 1;}#sk-container-id-1 div.sk-parallel {display: flex;align-items: stretch;justify-content: center;background-color: white;position: relative;}#sk-container-id-1 div.sk-item::before, #sk-container-id-1 div.sk-parallel-item::before {content: \"\";position: absolute;border-left: 1px solid gray;box-sizing: border-box;top: 0;bottom: 0;left: 50%;z-index: -1;}#sk-container-id-1 div.sk-parallel-item {display: flex;flex-direction: column;z-index: 1;position: relative;background-color: white;}#sk-container-id-1 div.sk-parallel-item:first-child::after {align-self: flex-end;width: 50%;}#sk-container-id-1 div.sk-parallel-item:last-child::after {align-self: flex-start;width: 50%;}#sk-container-id-1 div.sk-parallel-item:only-child::after {width: 0;}#sk-container-id-1 div.sk-dashed-wrapped {border: 1px dashed gray;margin: 0 0.4em 0.5em 0.4em;box-sizing: border-box;padding-bottom: 0.4em;background-color: white;}#sk-container-id-1 div.sk-label label {font-family: monospace;font-weight: bold;display: inline-block;line-height: 1.2em;}#sk-container-id-1 div.sk-label-container {text-align: center;}#sk-container-id-1 div.sk-container {/* jupyter's `normalize.less` sets `[hidden] { display: none; }` but bootstrap.min.css set `[hidden] { display: none !important; }` so we also need the `!important` here to be able to override the default hidden behavior on the sphinx rendered scikit-learn.org. See: https://github.com/scikit-learn/scikit-learn/issues/21755 */display: inline-block !important;position: relative;}#sk-container-id-1 div.sk-text-repr-fallback {display: none;}</style><div id=\"sk-container-id-1\" class=\"sk-top-container\"><div class=\"sk-text-repr-fallback\"><pre>MLPClassifier(alpha=0, batch_size=250, hidden_layer_sizes=10, max_iter=2000)</pre><b>In a Jupyter environment, please rerun this cell to show the HTML representation or trust the notebook. <br />On GitHub, the HTML representation is unable to render, please try loading this page with nbviewer.org.</b></div><div class=\"sk-container\" hidden><div class=\"sk-item\"><div class=\"sk-estimator sk-toggleable\"><input class=\"sk-toggleable__control sk-hidden--visually\" id=\"sk-estimator-id-1\" type=\"checkbox\" checked><label for=\"sk-estimator-id-1\" class=\"sk-toggleable__label sk-toggleable__label-arrow\">MLPClassifier</label><div class=\"sk-toggleable__content\"><pre>MLPClassifier(alpha=0, batch_size=250, hidden_layer_sizes=10, max_iter=2000)</pre></div></div></div></div></div>"
      ],
      "text/plain": [
       "MLPClassifier(alpha=0, batch_size=250, hidden_layer_sizes=10, max_iter=2000)"
      ]
     },
     "execution_count": 18,
     "metadata": {},
     "output_type": "execute_result"
    }
   ],
   "source": [
    "# Train the MLP using the train data.\n",
    "mlp.fit(X_train, Y_train)"
   ]
  },
  {
   "cell_type": "code",
   "execution_count": 19,
   "metadata": {},
   "outputs": [
    {
     "data": {
      "text/plain": [
       "Text(0.5, 1.0, 'Cross entropy loss on the TRAINING DATA. \\nBest CE = 0.674')"
      ]
     },
     "execution_count": 19,
     "metadata": {},
     "output_type": "execute_result"
    },
    {
     "data": {
      "image/png": "[encoded data removed]",
      "text/plain": [
       "<Figure size 1600x800 with 1 Axes>"
      ]
     },
     "metadata": {},
     "output_type": "display_data"
    }
   ],
   "source": [
    "# It is good practice to look at the learning curve, to see how much the model has improved from the initial point,\n",
    "# and how is has evolved over epochs.\n",
    "fig, ax = plt.subplots(figsize = (16,8))\n",
    "plt.plot(mlp.loss_curve_)\n",
    "ax.set_xlabel('Epoch')\n",
    "ax.set_ylabel('Cross entropy loss')\n",
    "ax.grid(True,linewidth = 0.5)\n",
    "ax.set_ylim(0.0,1.2)\n",
    "ax.set_xlim(0,mlp.n_iter_)\n",
    "ax.set_title(f'Cross entropy loss on the TRAINING DATA. \\nBest CE = {mlp.loss_:4.3f}')\n",
    "# The plot illustrates that the training stops when the training loss does no longer improve more that a given tolerance (e.g. 1e-6), or reaches max_iter"
   ]
  },
  {
   "cell_type": "markdown",
   "metadata": {},
   "source": [
    "`v. Evaluating the model performance` <br>\n",
    "Machine learning researchers usually evaluate the performance of a classification model using the cross-entropy. A lower cross entrop indicates a better model. In contrast, choice modellers usually look at the Log-likelihood (LL) and the rho-square. A high LL and rho-square indicate a better model. <br>\n",
    "As there is no standard function that outputs the evaluation metrics of both disciplines, below we create our **own evaluation function**."
   ]
  },
  {
   "cell_type": "code",
   "execution_count": 20,
   "metadata": {},
   "outputs": [],
   "source": [
    "# We create an eavluation function that returns key evaluation metrics: LL, LL0, cross_entropy, rho_sq\n",
    "# To compute these performance metrics, the function takes as inputs:\n",
    "#   - the predicted probabilities (prob)\n",
    "#   - the choices (Y)\n",
    "#   - the availabilities (AV)\n",
    "def eval_performance(prob,Y,AV):\n",
    "    \n",
    "    # Calculate the likelihood of the data given the model\n",
    "    LL = np.sum(np.log(np.sum(prob*Y,axis=1)))\n",
    "\n",
    "    # Calculate the Null-loglikelihood\n",
    "    LL0 = np.sum(np.log(np.divide(1,np.sum(AV,axis=1))))\n",
    "\n",
    "    # Calculate cross-entropy\n",
    "    cross_entropy =  -LL/len(AV)\n",
    "    \n",
    "    # Calculate the rho_sq\n",
    "    rho_sq = 1 -(LL/LL0)\n",
    "    return LL, LL0, cross_entropy, rho_sq"
   ]
  },
  {
   "cell_type": "code",
   "execution_count": 21,
   "metadata": {},
   "outputs": [
    {
     "name": "stdout",
     "output_type": "stream",
     "text": [
      "Model performance of the plain vanilla MLP:\n",
      "                      0         1\n",
      "data set          Train      Test\n",
      "LL            -2,824.31 -2,014.52\n",
      "LL0           -4,902.96 -3,293.06\n",
      "cross_entropy      0.67      0.72\n",
      "rho_sq             0.42      0.39\n"
     ]
    }
   ],
   "source": [
    "# Let's use our function to evaluate and compare the performance of our MLP on the training and test data sets\n",
    "eval_train = eval_performance(mlp.predict_proba(X_train),np.transpose([Y_train ==1,Y_train ==2,Y_train ==3, Y_train ==4]), X_train[['av_car','av_bus','av_rail','av_air']])\n",
    "eval_test  = eval_performance(mlp.predict_proba(X_test), np.transpose([Y_test  ==1,Y_test  ==2,Y_test  ==3, Y_test  ==4]), X_test[['av_car','av_bus','av_rail','av_air']])\n",
    "\n",
    "# Print the results\n",
    "print('Model performance of the plain vanilla MLP:')\n",
    "pd.options.display.float_format = '{:,.2f}'.format\n",
    "results = pd.DataFrame({'data set':     ['Train','Test'],\n",
    "                        'LL':           [eval_train[0], eval_test[0]],\n",
    "                        'LL0':          [eval_train[1], eval_test[1]],\n",
    "                        'cross_entropy':[eval_train[2], eval_test[2]],\n",
    "                        'rho_sq':       [eval_train[3], eval_test[3]]})\n",
    "print(results.T)"
   ]
  },
  {
   "cell_type": "markdown",
   "metadata": {},
   "source": [
    "To get a sense of how well this plain vanilla MLP performs, below are the same performance metrics for a RUM-MNL model printed (on all data)."
   ]
  },
  {
   "cell_type": "code",
   "execution_count": 22,
   "metadata": {},
   "outputs": [
    {
     "name": "stdout",
     "output_type": "stream",
     "text": [
      "LL\t\t -5761.741       \n",
      "LL0\t\t -8196.021       \n",
      "cross_entropy\t 0.823       \n",
      "rho_sq\t\t 0.297\n"
     ]
    }
   ],
   "source": [
    "print(f'LL\\t\\t {results_rum_mnl.getGeneralStatistics()[\"Final log likelihood\"][0]:0.3f} \\\n",
    "      \\nLL0\\t\\t {results_rum_mnl.getGeneralStatistics()[\"Null log likelihood\"][0]:0.3f} \\\n",
    "      \\ncross_entropy\\t {-results_rum_mnl.getGeneralStatistics()[\"Final log likelihood\"][0]/len(dff):0.3f} \\\n",
    "      \\nrho_sq\\t\\t {results_rum_mnl.getGeneralStatistics()[\"Rho-square for the null model\"][0]:0.3f}')"
   ]
  },
  {
   "cell_type": "markdown",
   "metadata": {},
   "source": [
    "**As can be seen, the model fit of the MLP is considerably higher than of the linear-additive RUM-MNL model.**"
   ]
  },
  {
   "cell_type": "markdown",
   "metadata": {},
   "source": [
    "### ``Exercise 3: Does using more nodes improve the model performance?``\n",
    "`A` Calculate the number of weights consumed by the current MLP with 10 hidden nodes in 1 hidden layer. <br>\n",
    "`B` Retrain your model several times with {10,30,60,90} nodes. Report the cross-entropy performance on the train and test data sets.<br>\n",
    "`C` Does increasing the number of nodes lead to a lower cross-entropy on the train and or test set? What is happening?<br>\n",
    "`D` Suppose you would have many more choice observations from this survey. Would that enable you to develop a much better model with a cross entropy performance of say <0.10 (on the test set)? Explain your answer. <br>"
   ]
  },
  {
   "cell_type": "markdown",
   "metadata": {},
   "source": [
    "$\\color{green}{\\text{Add your answers here}}$"
   ]
  },
  {
   "cell_type": "code",
   "execution_count": null,
   "metadata": {},
   "outputs": [],
   "source": [
    "# Add your code here"
   ]
  },
  {
   "cell_type": "code",
   "execution_count": null,
   "metadata": {},
   "outputs": [],
   "source": [
    "# ANSWERS\n",
    "# A)\n",
    "# B)\n",
    "# C)\n",
    "# D)"
   ]
  },
  {
   "cell_type": "markdown",
   "metadata": {},
   "source": [
    "### `3. Using Early stopping to avoid overfitting`\n",
    "Early stopping refers to a technique that stops the training of the network when the performance on the test data set no longer improves. Thereby, early stopping avoids the model to overfit the data. It essetially stops the training before the model can overfit.  "
   ]
  },
  {
   "cell_type": "code",
   "execution_count": null,
   "metadata": {},
   "outputs": [],
   "source": [
    "# Note this is the same 'plain vanilla' MLP, but now we set early_stopping = True\n",
    "# A validation_fraction is added. This fraction is the proportion of training data to set aside as validation set for early stopping. This data set is used to determine when to stop. \n",
    "# The training stops when the performance on the validation data set does not improve for n_iter_no_change in a row\n",
    "# We use the MLP with 10 nodes and one hidden layer again.\n",
    "layers = (10)\n",
    "n_iter_no_change = 10\n",
    "mlp_early_st = MLPClassifier(hidden_layer_sizes = layers, solver='adam', learning_rate_init = 0.001, alpha=0, batch_size=250, activation = 'relu', max_iter = 2000, early_stopping=True, n_iter_no_change = n_iter_no_change,validation_fraction = 0.25) \n",
    "\n",
    "# Train the MLP using the train data\n",
    "# Note that we use df.values here. This is due to a small bug in sk-learn. Without .values sk-learn still works, but prompts some warnings\n",
    "mlp_early_st.fit(X_train.values, Y_train.values)"
   ]
  },
  {
   "cell_type": "code",
   "execution_count": null,
   "metadata": {},
   "outputs": [],
   "source": [
    "# It is good practice to look at the learning curve, to see how much the model has improved from the initial point,\n",
    "# and how it has evolved over the epochs.\n",
    "# The learning curve plot also illustrates well what early stopping does.\n",
    "fig, ax = plt.subplots(figsize = (10,5))\n",
    "plt.plot(mlp.loss_curve_,label=f'MLP with {mlp.hidden_layer_sizes} hidden nodes, WITHOUT early stopping')\n",
    "plt.plot(mlp_early_st.loss_curve_,label=f'MLP with {mlp_early_st.hidden_layer_sizes} hidden nodes, WITH early stopping')\n",
    "ax.set_xlabel('Epoch')\n",
    "ax.set_ylabel('Cross entropy loss')\n",
    "ax.grid(True,linewidth = 0.5)\n",
    "ax.set_ylim(0.0,1.2)\n",
    "ax.set_xlim(0,mlp.n_iter_)\n",
    "ax.set_title('Effect of early stopping')\n",
    "ax.legend()"
   ]
  },
  {
   "cell_type": "code",
   "execution_count": null,
   "metadata": {},
   "outputs": [],
   "source": [
    "# Let's use our evaluation function again to evaluate performance of the MLP with early stopping on the training and test data set\n",
    "eval_train_early_st = eval_performance(mlp_early_st.predict_proba(X_train.values),np.transpose([Y_train ==1,Y_train ==2,Y_train ==3, Y_train ==4]), X_train[['av_car','av_bus','av_rail','av_air']])\n",
    "eval_test_early_st  = eval_performance(mlp_early_st.predict_proba(X_test.values), np.transpose([Y_test  ==1,Y_test  ==2,Y_test  ==3, Y_test  ==4]), X_test[['av_car','av_bus','av_rail','av_air']])\n",
    "\n",
    "pd.options.display.float_format = '{:,.2f}'.format\n",
    "results_early_st = pd.DataFrame({'data set':     ['Train','Test'],\n",
    "                        'LL':           [eval_train_early_st[0], eval_test_early_st[0]],\n",
    "                        'LL0':          [eval_train_early_st[1], eval_test_early_st[1]],\n",
    "                        'cross_entropy':[eval_train_early_st[2], eval_test_early_st[2]],\n",
    "                        'rho_sq':       [eval_train_early_st[3], eval_test_early_st[3]]})\n",
    "print(results_early_st.T)"
   ]
  },
  {
   "cell_type": "markdown",
   "metadata": {},
   "source": [
    "### ``Exercise 4: Can we overfit with early stopping?``\n",
    "`A` Did early stopping reduced overfitting? How can you see this from the printed results?<br>\n",
    "`B` Try if early stoppping also helps to avoid overfitting when using more nodes, e.g. 100, or (50,50) nodes"
   ]
  },
  {
   "cell_type": "markdown",
   "metadata": {},
   "source": [
    "$\\color{green}{\\text{Add your answers here}}$"
   ]
  },
  {
   "cell_type": "code",
   "execution_count": null,
   "metadata": {},
   "outputs": [],
   "source": [
    "# Add your code here"
   ]
  },
  {
   "cell_type": "code",
   "execution_count": null,
   "metadata": {},
   "outputs": [],
   "source": [
    "# ANSWERS\n",
    "# A)\n",
    "# B)"
   ]
  },
  {
   "cell_type": "markdown",
   "metadata": {},
   "source": [
    "### `4. Using k-fold cross validation to evaluate generalisation performance`\n",
    "k-fold cross validation is commonly used to more accurately **evaluate the generalisation performance** of a given network. It improves a simple train-test split approach in that it systematically cuts the data set in k pieces. k-fold cross validation is especially crucial when tuning hyperparameters (as we will see later)."
   ]
  },
  {
   "cell_type": "code",
   "execution_count": null,
   "metadata": {},
   "outputs": [],
   "source": [
    "# Create MLP object (plain vanilla MLP without early stopping)\n",
    "layers = 10\n",
    "mlp_cv = MLPClassifier(hidden_layer_sizes = layers, solver='adam', learning_rate_init = 0.001, alpha=0, batch_size=250, activation = 'relu', max_iter = 2000) \n",
    "\n",
    "# Create scoring function\n",
    "# It is necessary to create a scoring function when working with cross_validate of sk-learn\n",
    "# We set `greater_is_better` to `False` as we are minimising cross entropy loss\n",
    "logloss = make_scorer(log_loss, greater_is_better = False, needs_proba = True)\n",
    "\n",
    "# Apply cross_validate, using e.g. 5 folds\n",
    "# Since we use cross-validation training takes n_folds times longer than using a train-test split\n",
    "n_folds = 5\n",
    "cv_results = cross_validate(mlp_cv,dff_scaled[features],Y,cv = n_folds, scoring=logloss,return_train_score=True)"
   ]
  },
  {
   "cell_type": "code",
   "execution_count": null,
   "metadata": {},
   "outputs": [],
   "source": [
    "# Plot the train and test performance in a bar plot, for each fold\n",
    "fig, ax = plt.subplots(figsize=(10, 6))\n",
    "x_axis = np.arange(n_folds)\n",
    "ax.bar(x_axis + -0.125, -cv_results['train_score'], color = 'b', width = 0.25,label = 'Train data set')\n",
    "ax.bar(x_axis +  0.125, -cv_results['test_score'], color = 'g', width = 0.25,label = 'Test data set')\n",
    "ax.set_xlabel('fold #')\n",
    "ax.set_ylabel('cross entropy')\n",
    "ax.grid()\n",
    "ax.legend()"
   ]
  },
  {
   "cell_type": "markdown",
   "metadata": {},
   "source": [
    "**Hence, this cross validation analysis supports the finding that a plain vanilla MLP (i.e. without early stopping) only slightly overfits the data**"
   ]
  },
  {
   "cell_type": "markdown",
   "metadata": {},
   "source": [
    "## `5. Tuning hyperparameter`\n",
    "When training MLPs (and most other ML models) there are several parameters we can **'tune'** (optimise) to improve the model's performance. The process of doing this is called **hyperparameter tuning**. Hyperparameter tuning can be done manually, but that is unwieldy. The GridSearchCV function in `sk-learn` automates the hyperparemeter tuning process. When tuning the hyperparameters, it is mandatory to use a k-fold cross validation approach. Otherwise, there is a risk of overfitting on the test set *because* the parameters can be tweaked until the estimator performs optimally on the test data set."
   ]
  },
  {
   "cell_type": "code",
   "execution_count": null,
   "metadata": {},
   "outputs": [],
   "source": [
    "# Do not change these lines (they ensure the code runs fast enough on colab and local, by reducing the no. iterations for colab)\n",
    "try:\n",
    "    num_iters \n",
    "except NameError:\n",
    "    num_iters = 2000\n",
    "else:\n",
    "    num_iters = 250\n",
    "\n",
    "# Create MLP object (plain vanilla MLP)\n",
    "mlp_gs = MLPClassifier(activation = 'relu', solver='adam', batch_size=250, max_iter=num_iters)\n",
    "\n",
    "# Define the hyperparameter search space\n",
    "# 'hidden_layer_sizes' defines the number of nodes and layers\n",
    "# 'alpha' governs the L2 regularisation\n",
    "# 'learning_rate_init' governs the learning rate.\n",
    "hyperparameter_space = {\n",
    "    'hidden_layer_sizes': [(10),(10,10),(30,30)],\n",
    "    'alpha': [0,0.01,1],\n",
    "    'learning_rate_init': [0.01,0.001,0.0001]}\n",
    "\n",
    "# Create scoring function\n",
    "logloss = make_scorer(log_loss, greater_is_better = False, needs_proba = True)\n",
    "\n",
    "# Create the grid_search object, with using the MLP classifier\n",
    "folds = 5 # Number of cross validation splits\n",
    "mlp_gridsearch = GridSearchCV(mlp_gs, hyperparameter_space, n_jobs=-1, cv=folds,scoring = logloss)"
   ]
  },
  {
   "cell_type": "code",
   "execution_count": null,
   "metadata": {},
   "outputs": [],
   "source": [
    "# Execute the training/gridsearch\n",
    "# Note that this is computationally expensive! \n",
    "# It may take up to 5 minutes, since 3 x 3 x 3 = 27 models need to be trained, each with 5 folds (=135)\n",
    "mlp_gridsearch.fit(X_train, Y_train)"
   ]
  },
  {
   "cell_type": "markdown",
   "metadata": {},
   "source": [
    "Save your hyperparameter tuning results, so we only have to do it once."
   ]
  },
  {
   "cell_type": "code",
   "execution_count": null,
   "metadata": {},
   "outputs": [],
   "source": [
    "# Save your model \n",
    "filename = 'my_tuned_model.sav'\n",
    "pickle.dump(mlp_gridsearch, open(filename,'wb'))"
   ]
  },
  {
   "cell_type": "code",
   "execution_count": null,
   "metadata": {},
   "outputs": [],
   "source": [
    "# Load your model (if you have a saved model)\n",
    "# mlp_gridsearch = pickle.load(open(filename,'rb'))"
   ]
  },
  {
   "cell_type": "markdown",
   "metadata": {},
   "source": [
    "Visualise the hyperparameter tuning results"
   ]
  },
  {
   "cell_type": "code",
   "execution_count": null,
   "metadata": {},
   "outputs": [],
   "source": [
    "# Collect results into a new pandas dataframe\n",
    "df_gridsearch = pd.DataFrame.from_dict(mlp_gridsearch.cv_results_)\n",
    "    \n",
    "# Add new column with a label for the hyperparameter combinations %% NOT SURE IF THIS IS BET WAY TO DO THIS IN PYTHON   \n",
    "df_gridsearch['gs_combinations'] = 'L2 = '+ df_gridsearch['param_alpha'].astype('str') + '; Learning_rate = '+ df_gridsearch['param_learning_rate_init'].astype('str') + '; Layers = ' + df_gridsearch['param_hidden_layer_sizes'].astype('str')\n",
    "df_gridsearch = df_gridsearch.sort_values('rank_test_score')\n",
    "\n",
    "# Visualise deviation in performance across hyper parameter settings\n",
    "plt.figure(figsize = (16,6))\n",
    "ax = sns.barplot(x = df_gridsearch.gs_combinations,y=-df_gridsearch.mean_test_score,palette=\"Blues_d\",)\n",
    "ax.set_ylim(0.6,1.2)\n",
    "plt.xticks(rotation=90)\n",
    "\n",
    "print('Best hyperparameters found:\\t', mlp_gridsearch.best_params_)\n",
    "print('Best model performance:\\t\\t', -mlp_gridsearch.best_score_)"
   ]
  },
  {
   "cell_type": "markdown",
   "metadata": {},
   "source": [
    "### ``Exercise 5: Hyperparameter tuning``\n",
    "`A` Compare the performance of the hypertuned model with the plain vanilla MLP. Has the generalisation performance improved? How much?<br>\n",
    "`B` What hyperparameter turns out to be particularly impactful on the model performance?<br>\n",
    "`C` Can you think of reasons why this could be the case?"
   ]
  },
  {
   "cell_type": "markdown",
   "metadata": {},
   "source": [
    "$\\color{green}{\\text{Add your answers here}}$"
   ]
  },
  {
   "cell_type": "code",
   "execution_count": null,
   "metadata": {},
   "outputs": [],
   "source": [
    "# Add your code here"
   ]
  },
  {
   "cell_type": "code",
   "execution_count": null,
   "metadata": {},
   "outputs": [],
   "source": [
    "# ANSWERS\n",
    "# A)\n",
    "# B)\n",
    "# C)"
   ]
  },
  {
   "cell_type": "markdown",
   "metadata": {},
   "source": [
    "**(Re)Training the model with optimised hyperparameters**<br> \n",
    "After completing hypertuning, you know the optimal hyperparameters. <br>\n",
    "Therefore, after hypertuning we always retrain the model using the optimised hyperparameters."
   ]
  },
  {
   "cell_type": "code",
   "execution_count": null,
   "metadata": {},
   "outputs": [],
   "source": [
    "# Create a new mlp object using the optimised hyperparameters, just using the train/test split\n",
    "layers = mlp_gridsearch.best_params_['hidden_layer_sizes']\n",
    "lr = mlp_gridsearch.best_params_['learning_rate_init']\n",
    "alpha = mlp_gridsearch.best_params_['alpha']\n",
    "mlp_gs = MLPClassifier(hidden_layer_sizes = layers, solver='adam', learning_rate_init = lr, alpha=alpha, batch_size=250, activation = 'tanh', max_iter = 2000) \n",
    "\n",
    "# Train the model\n",
    "mlp_gs.fit(X_train,Y_train)"
   ]
  },
  {
   "cell_type": "code",
   "execution_count": null,
   "metadata": {},
   "outputs": [],
   "source": [
    "# Let's also evaluate performance on the hypertuned model using our evaluation function\n",
    "# Note we use the full data here\n",
    "eval_gridsearch = eval_performance(mlp_gs.predict_proba(dff_scaled[features]),np.transpose([Y ==1,Y ==2,Y ==3, Y==4]), dff_scaled[['av_car','av_bus','av_rail','av_air']])\n",
    "\n",
    "pd.options.display.float_format = '{:,.2f}'.format\n",
    "results_clf = pd.DataFrame({'data set': ['All data'],\n",
    "                        'LL':           [eval_gridsearch[0]],\n",
    "                        'LL0':          [eval_gridsearch[1]],\n",
    "                        'cross_entropy':[eval_gridsearch[2]],\n",
    "                        'rho_sq':       [eval_gridsearch[3]]})\n",
    "print(results_clf.T)"
   ]
  },
  {
   "cell_type": "markdown",
   "metadata": {},
   "source": [
    "### `6. Evaluating and comparing performances across trained models`"
   ]
  },
  {
   "cell_type": "markdown",
   "metadata": {},
   "source": [
    "To evaluate the performance of a wide range is metrics are available, beyond generalisation performance.<br>\n",
    "Here, we look at:<br>\n",
    "i. Confusion matrix<br>\n",
    "ii. Precision, Recall, and F1-score<br>\n",
    "iii. Matthew's correlation coefficient"
   ]
  },
  {
   "cell_type": "markdown",
   "metadata": {},
   "source": [
    "**i) Confusion matrix**<br>\n",
    "Confusion matrices shows counts from predicted and actual outcomes. The counts on the diagonal are correctly classified outcomes (the model predictions and the ground true are the same). The counts on the off diagonal elements are the misclassified outcomes. Hence, the best classifier will have a confusion matrix with only diagonal elements and the rest of the elements set to zero.<br>\n",
    "We compare the **MLP with early stopping** against the **MLP with hyperparameter tuning**.   "
   ]
  },
  {
   "cell_type": "code",
   "execution_count": null,
   "metadata": {},
   "outputs": [],
   "source": [
    "# Predict the choices for the test data set, using the MLP trained with early stopping and MLP with hyperparameters tuned\n",
    "Y_pred_early_st  = mlp_early_st.predict(X_test.values)  # 0/1 predictions of MLP trained with early stopping\n",
    "Y_pred_gs = mlp_gs.predict(X_test)                      # 0/1 predictions of MLP with hyperparameters tuned\n",
    "\n",
    "# Show the confusion matrices, to compare the hyperparameter tuned network with the early stopping network\n",
    "fig, ax = plt.subplots(2,2,figsize = (16,12))\n",
    "fig.set_tight_layout(True)\n",
    "ylabels = ['Car', 'Bus', 'Rail', 'Air']\n",
    "cm1 = ConfusionMatrixDisplay.from_predictions(y_true=Y_test,y_pred=Y_pred_early_st, display_labels = ylabels, normalize=None,  ax=ax[(0,0)])\n",
    "cm2 = ConfusionMatrixDisplay.from_predictions(y_true=Y_test,y_pred=Y_pred_early_st, display_labels = ylabels, normalize='true',ax=ax[(1,0)])\n",
    "cm3 = ConfusionMatrixDisplay.from_predictions(y_true=Y_test,y_pred=Y_pred_gs, display_labels = ylabels, normalize=None,  ax=ax[(0,1)])\n",
    "cm4 = ConfusionMatrixDisplay.from_predictions(y_true=Y_test,y_pred=Y_pred_gs, display_labels = ylabels, normalize='true',ax=ax[(1,1)])\n",
    "\n",
    "# Add titles\n",
    "cm1.ax_.set_title(f'MLP with {mlp_early_st.hidden_layer_sizes} nodes \\n trained with early stopping')\n",
    "cm2.ax_.set_title(f'MLP with {mlp_early_st.hidden_layer_sizes} nodes \\n trained with early stopping')\n",
    "cm3.ax_.set_title(f'MLP with {mlp_gs.hidden_layer_sizes} nodes \\n hyperparameters tuned')\n",
    "cm4.ax_.set_title(f'MLP with {mlp_gs.hidden_layer_sizes} nodes \\n hyperparameters tuned')"
   ]
  },
  {
   "cell_type": "markdown",
   "metadata": {},
   "source": [
    "### ``Exercise 6: Model accuracy``\n",
    "Accuracy is defined as the true positives over the total number of cases.<br>\n",
    "`A` Manually compute the prediction accuracy of the model with early stopping and the model with hyperparameter tuning<br>\n",
    "`B` For which class (Train/SM/Car) does the hyperparameter tuning improves the prediction accuracy most?<br>"
   ]
  },
  {
   "cell_type": "markdown",
   "metadata": {},
   "source": [
    "$\\color{green}{\\text{Add your answers here}}$"
   ]
  },
  {
   "cell_type": "code",
   "execution_count": null,
   "metadata": {},
   "outputs": [],
   "source": [
    "# Add your code here"
   ]
  },
  {
   "cell_type": "code",
   "execution_count": null,
   "metadata": {},
   "outputs": [],
   "source": [
    "# ANSWERS\n",
    "# A)\n",
    "# B)"
   ]
  },
  {
   "cell_type": "markdown",
   "metadata": {},
   "source": [
    "**ii) Precision, Recall, and F1**<br>\n",
    "Looking at the confusion matrices, the improvements in prediction accuracy due to the hyperparameter tuning may not seem very impressive. However, one should keep in mind that 0/1 predictions are sensitive to class imbalances, which are present in these data. Moreover, accuracy can be a misleading metric for imbalanced data sets. A naive model that would simply always predict \"SM\" will already do quite good."
   ]
  },
  {
   "cell_type": "markdown",
   "metadata": {},
   "source": [
    "To assess the model performance in more depth, we thus must look at the predictions at the level of the classes.<br> \n",
    "Next, we compute Precision, Recall, and F1 score.<br>\n",
    "* **Precision** Tells you what fraction of predictions for a given class are actually of that class.<br>\n",
    "* **Recall** Tells what fraction of all observations belonging to a given class are correctly predicted as such by the model. Recall is also known as True Positive Rate (TPR), Sensitivity, Probability of Detection. <br>\n",
    "* **F1 score** combines precision and recall into a single measure. Mathematically it’s the harmonic mean of precision and recall. It can be calculated as follows: <br>"
   ]
  },
  {
   "cell_type": "code",
   "execution_count": null,
   "metadata": {},
   "outputs": [],
   "source": [
    "# To calculate the precision, recal and f1 score we conveniently use sk-learn's 'classification_report' functionality\n",
    "print('Classification report for plain vanilla MLP with early stopping\\n',classification_report(Y_test,Y_pred_early_st, target_names= ylabels))\n",
    "print('\\nClassification report for plain vanilla MLP with hyperparameters tuned\\n',classification_report(Y_test,Y_pred_gs, target_names= ylabels))"
   ]
  },
  {
   "cell_type": "markdown",
   "metadata": {},
   "source": [
    "**iii) Matthew's correlation coefficient**<br>\n",
    "Another commonly used metric to evaluate the prediction performance while accounting for imbalances in the data set is  matthews correlation coefficient. Matthews Correlation Coefficient (MCC) is generally regarded as being one of the best measures to describe the confusion matrix of true and false positives and negatives by a **single number**, even if the classes are of very different sizes. The MCC is in essence a correlation coefficient value between -1 and +1. A coefficient of +1 represents a perfect prediction, 0 an average random prediction and -1 an inverse prediction."
   ]
  },
  {
   "cell_type": "code",
   "execution_count": null,
   "metadata": {},
   "outputs": [],
   "source": [
    "# Taking into account the imbalances of the data\n",
    "print(f'Matthews correlation coefficient for plain Vanilla MLP with early stopping:\\t {matthews_corrcoef(Y_test, Y_pred_early_st):4.3f}')\n",
    "print(f'Matthews correlation coefficient for plain Vanilla MLP with hypertuning:\\t {matthews_corrcoef(Y_test, Y_pred_gs):4.3f}')"
   ]
  },
  {
   "cell_type": "markdown",
   "metadata": {},
   "source": [
    "### ``Exercise 7: Model precision, recall, f1 and Matthew's correlation coefficent``\n",
    "`A` Compare and interpret the results from the classifications reports between the early stopping and hypertuned model.<br>\n",
    "`B` Compare and interpret the results from Matthews correlation coefficient between the early stopping and hypertuned model."
   ]
  },
  {
   "cell_type": "markdown",
   "metadata": {},
   "source": [
    "$\\color{green}{\\text{Add your answers here}}$"
   ]
  },
  {
   "cell_type": "code",
   "execution_count": null,
   "metadata": {},
   "outputs": [],
   "source": [
    "# Add your code here"
   ]
  },
  {
   "cell_type": "code",
   "execution_count": null,
   "metadata": {},
   "outputs": [],
   "source": [
    "# ANSWERS\n",
    "# A)\n",
    "# B)"
   ]
  }
 ],
 "metadata": {
  "kernelspec": {
   "display_name": "Python 3.7.13 64-bit ('py37')",
   "language": "python",
   "name": "python3"
  },
  "language_info": {
   "codemirror_mode": {
    "name": "ipython",
    "version": 3
   },
   "file_extension": ".py",
   "mimetype": "text/x-python",
   "name": "python",
   "nbconvert_exporter": "python",
   "pygments_lexer": "ipython3",
   "version": "3.11.5"
  },
  "orig_nbformat": 4,
  "vscode": {
   "interpreter": {
    "hash": "52edd5821628e65ed257fae09420cd5b7ee9f38a64f5e5ba5a5e47a3545ddf85"
   }
  }
 },
 "nbformat": 4,
 "nbformat_minor": 2
}
